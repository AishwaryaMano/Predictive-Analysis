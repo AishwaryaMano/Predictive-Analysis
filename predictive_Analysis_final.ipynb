{
 "cells": [
  {
   "cell_type": "code",
   "execution_count": 1,
   "metadata": {},
   "outputs": [],
   "source": [
    "import numpy as np\n",
    "import pandas as pd\n",
    "import csv\n",
    "import math\n",
    "import random\n",
    "from matplotlib import pyplot as plt\n",
    "from sklearn.model_selection import train_test_split\n",
    "from sklearn import metrics\n",
    "from statistics import mean \n",
    "from sklearn.metrics.pairwise import paired_distances\n",
    "from sklearn.svm import SVC\n",
    "from sklearn.linear_model import LogisticRegression\n",
    "from sklearn.ensemble import RandomForestClassifier\n",
    "from sklearn.ensemble import VotingClassifier\n",
    "from sklearn.neighbors import KNeighborsClassifier\n",
    "from sklearn.tree import DecisionTreeClassifier\n",
    "from sklearn.preprocessing import StandardScaler\n",
    "import time"
   ]
  },
  {
   "cell_type": "code",
   "execution_count": 2,
   "metadata": {},
   "outputs": [],
   "source": [
    "def Accuracy(y_true,y_pred):\n",
    "    \"\"\"\n",
    "    :type y_true: numpy.ndarray\n",
    "    :type y_pred: numpy.ndarray\n",
    "    :rtype: float\n",
    "    \n",
    "    \"\"\"\n",
    "    cm=ConfusionMatrix(y_true,y_pred)\n",
    "    accuracy=[]\n",
    "    for i in range(len(cm[0])):\n",
    "        accuracy.append(cm[i][i])\n",
    "    if sum(sum(cm))!=0:\n",
    "        accuracy=sum(accuracy)/sum(sum(cm))\n",
    "#     print(\"Accuracy \",accuracy)\n",
    "    return accuracy"
   ]
  },
  {
   "cell_type": "code",
   "execution_count": 3,
   "metadata": {},
   "outputs": [],
   "source": [
    "def Recall(y_true,y_pred):\n",
    "    \"\"\"\n",
    "    :type y_true: numpy.ndarray\n",
    "    :type y_pred: numpy.ndarray\n",
    "    :rtype: float\n",
    "    \"\"\"\n",
    "    cm=ConfusionMatrix(y_true,y_pred)\n",
    "    recall=[]\n",
    "    for i in range(len(cm[0])):\n",
    "        if sum(cm[:,i])!=0:\n",
    "            recall.append(cm[i][i]/sum(cm[:,i]))\n",
    "        else:\n",
    "            recall.append(0)\n",
    "    recall=mean(recall)\n",
    "    return recall"
   ]
  },
  {
   "cell_type": "code",
   "execution_count": 4,
   "metadata": {},
   "outputs": [],
   "source": [
    "def Precision(y_true,y_pred):\n",
    "    \"\"\"\n",
    "    :type y_true: numpy.ndarray\n",
    "    :type y_pred: numpy.ndarray\n",
    "    :rtype: float\n",
    "    \"\"\"\n",
    "    cm=ConfusionMatrix(y_true,y_pred)\n",
    "    \n",
    "    precision=[]\n",
    "    for i in range(len(cm[0])):\n",
    "        if sum(cm[i])!=0:\n",
    "            precision.append(cm[i][i]/sum(cm[i]))\n",
    "        else:\n",
    "            precision.append(0)\n",
    "    precision=mean(precision)\n",
    "    return precision\n"
   ]
  },
  {
   "cell_type": "code",
   "execution_count": 5,
   "metadata": {},
   "outputs": [],
   "source": [
    "def WCSS(Clusters):\n",
    "    \"\"\"\n",
    "    :Clusters List[numpy.ndarray]\n",
    "    :rtype: float\n",
    "    \"\"\"\n",
    "    z=np.asarray(Clusters)\n",
    "    res=[]\n",
    "    for i in range(len(z)):\n",
    "        res.append((sum([(a - b) ** 2 for a, b in zip(z[i,1], z[i,2])])))\n",
    "    return sum(res)"
   ]
  },
  {
   "cell_type": "code",
   "execution_count": 6,
   "metadata": {},
   "outputs": [],
   "source": [
    "def ConfusionMatrix(y_true,y_pred):\n",
    "    \n",
    "    \"\"\"\n",
    "    :type y_true: numpy.ndarray\n",
    "    :type y_pred: numpy.ndarray\n",
    "    :rtype: floa2t\n",
    "    \"\"\"  \n",
    "    #Get Unique elements from y_pred\n",
    "    u=np.unique(y_pred)\n",
    "    \n",
    "    #Create Confusion matrix and initialize with zeros \n",
    "    cm=np.zeros([len(u),len(u)])\n",
    "    \n",
    "    #Confusion Matrix\n",
    "    for i in range(len(y_true)):\n",
    "        cm[int(y_pred[i]-1)][int(y_true[i]-1)]=cm[int(y_pred[i]-1)][int(y_true[i]-1)]+1\n",
    "    \n",
    "        \n",
    "    cm=np.transpose(cm)\n",
    "\n",
    "    plt.imshow(cm, cmap=\"BuPu\",vmin=0,vmax=len(u))\n",
    "    plt.title(\"Confusion matrix\")\n",
    "    plt.ylabel(\"True Target\")\n",
    "    plt.xlabel(\"Predicted Target\")\n",
    "    plt.colorbar()\n",
    "    plt.show()\n",
    "    \n",
    "    return cm"
   ]
  },
  {
   "cell_type": "code",
   "execution_count": 7,
   "metadata": {},
   "outputs": [],
   "source": [
    "def KNN(x_train,x_test,y_train,k):\n",
    "    \"\"\"\n",
    "    :type X_train: numpy.ndarray\n",
    "    :type X_test: numpy.ndarray\n",
    "    :type Y_train: numpy.ndarray\n",
    "    \n",
    "    :rtype: numpy.ndarray\n",
    "    \"\"\"\n",
    "    \n",
    "    scaler = StandardScaler()\n",
    "\n",
    "    scaler.fit(x_train)\n",
    "    x_train = scaler.transform(x_train)\n",
    "\n",
    "    scaler = StandardScaler()\n",
    "    scaler.fit(x_test)\n",
    "    x_test = scaler.transform(x_test)\n",
    "    \n",
    "    \n",
    "    #GET THE DISTANCE MATRIX\n",
    "    s=[]\n",
    "    size=len(x_train)\n",
    "    for i in x_test:\n",
    "        x=np.tile(i,(size,1))\n",
    "        # print(x)\n",
    "        z=paired_distances(x, x_train)\n",
    "        s.append(z)\n",
    "    dist_matrix=np.transpose(s)\n",
    "\n",
    "    #GET THE INDEX OF MIN K~NEIGHBOURS\n",
    "    l=[]\n",
    "    f=[]\n",
    "    q=np.zeros([len(dist_matrix),k])\n",
    "    for i in range(len(dist_matrix[0])):\n",
    "        a=dist_matrix[:,i]\n",
    "        z=np.argpartition(a,k)\n",
    "        l.append(z)\n",
    "\n",
    "    l=np.asarray(l)\n",
    "    l=pd.DataFrame(data=l)\n",
    "\n",
    "    #MAKE INDEX MATRIX \n",
    "    t=l.iloc[:,:k]\n",
    "    t=pd.DataFrame(data=t)\n",
    "\n",
    "    #MAKE lABEL MATRIX\n",
    "    qq=np.zeros([t.shape[1],t.shape[0]])\n",
    "    for i in range(t.shape[1]):\n",
    "        for j in range(t.shape[0]):\n",
    "            w=t[i][j]\n",
    "            qq[i][j]=y_train[w]\n",
    "    qq=pd.DataFrame(np.transpose(qq))\n",
    "    qq['pred'] = qq.mode(axis=1)[0]\n",
    "    \n",
    "    y_pred=np.asarray(qq['pred'])\n",
    "    x=[]\n",
    "    for i in y_pred:\n",
    "        p=int(i)\n",
    "        x.append(p)\n",
    "\n",
    "    y_pred=x\n",
    "    y_pred=np.asarray(y_pred)\n",
    "    \n",
    "    return y_pred\n",
    "    \n",
    "#     Accuracy(y_true,y_pred)\n",
    "    "
   ]
  },
  {
   "cell_type": "code",
   "execution_count": 8,
   "metadata": {},
   "outputs": [],
   "source": [
    "def RandomForest(X_train,Y_train,X_test):\n",
    "    \"\"\"\n",
    "    :type X_train: numpy.ndarray\n",
    "    :type X_test: numpy.ndarray\n",
    "    :type Y_train: numpy.ndarray\n",
    "    \n",
    "    :rtype: numpy.ndarray\n",
    "    \"\"\"\n",
    "\n",
    "    # create a list of trees\n",
    "    forest = []\n",
    "    no_of_classes = len(np.unique(Y_train))\n",
    "    no_of_features = X_train.shape[1]\n",
    "\n",
    "    # this is the loop to create each tree, set to 10 for now\n",
    "    for x in range(5): \n",
    "        #generate sample data with replacement for this tree\n",
    "        row_indices = np.random.randint(X_train.shape[0], size=X_train.shape[0])\n",
    "        X_randomtrain = X_train[row_indices,:]\n",
    "        Y_randomtrain = Y_train[row_indices]\n",
    "\n",
    "        # build the tree and append to our tree list\n",
    "        forest.append(DecisionTree(X_randomtrain, Y_randomtrain, classes=no_of_classes, features=no_of_features))\n",
    "\n",
    "    y_pred = np.ndarray(shape=(X_test.shape[0],1), dtype=float)\n",
    "    i = 0\n",
    "    for x in X_test:\n",
    "        y_dict = dict()\n",
    "        for tree in forest:\n",
    "            y_val = test_tree(x, tree)\n",
    "            if y_val == -1:\n",
    "                continue\n",
    "            if y_val in y_dict:\n",
    "                y_dict[y_val] = y_dict.get(y_val) + 1\n",
    "            else:\n",
    "                y_dict[y_val] = 1\n",
    "        if bool(y_dict):\n",
    "            y_pred[i] = max(y_dict, key=y_dict.get)\n",
    "        else:\n",
    "            y_pred[i] = -1\n",
    "        i = i+1\n",
    " \n",
    "    return y_pred"
   ]
  },
  {
   "cell_type": "code",
   "execution_count": 9,
   "metadata": {},
   "outputs": [],
   "source": [
    "# extra functions / classes used by RandomForest\n",
    "\n",
    "def DecisionTree(X,y, depth=0, classes=2, default_y=-1.0, features=None):\n",
    "\n",
    "    # run Hunt's Algorithm to find the best decision tree\n",
    "    node = Node()\n",
    "\n",
    "    #   if D(t) contains all records that have the same class, then that is a leaf node, nothing else to do, label is y(t)\n",
    "    if len(np.unique(y)) == 1:\n",
    "        node.data = y.item(0)\n",
    "\n",
    "    elif X.shape[0] == 0:\n",
    "        node.data = default_y\n",
    "\n",
    "    elif depth > 100:\n",
    "        node.data = default_y\n",
    "\n",
    "    #   if D(t) contains records that belong to more than one class, calc the gini(t) and split on the attributed with the highest gini index\n",
    "    else:\n",
    "\n",
    "        highest_gain = 0.0 #used to calculate the best overall gain\n",
    "        highest_index = 0 # used to track the index to split at this level\n",
    "        highest_threshold = 0 # used for splitting threshold at this level\n",
    "        highest_threshold_index = 0 #where to split at left and right\n",
    "\n",
    "        # calculate the parent gini index\n",
    "        parent_gini, _, _ = calc_gini(y)\n",
    "\n",
    "        # generate random features to check for this tree layer\n",
    "        random_features = math.ceil(math.sqrt(features))\n",
    "        feature_indices = random.sample(range(features), random_features)\n",
    "        \n",
    "        y = y.reshape((y.shape[0],1))\n",
    "\n",
    "        full = np.concatenate((X,y), axis=1) #join X and y\n",
    "\n",
    "        for i in feature_indices:\n",
    "            full = full[full[:,i].argsort()]\n",
    "            gini, threshold, split_at = calc_gini(full[:,-1], full[:,:-1], parent_gini=parent_gini, feature=i)\n",
    "            gain = parent_gini - gini\n",
    "            if (gain > highest_gain):\n",
    "                highest_index = i\n",
    "                highest_gain = gain\n",
    "                highest_threshold = threshold\n",
    "                highest_threshold_index = split_at\n",
    "        \n",
    "        if highest_gain == 0.0:\n",
    "            node.data = default_y\n",
    "            return node\n",
    "\n",
    "        # choose the feature with the highest gini as the data for this node\n",
    "        node.index = highest_index\n",
    "        node.threshold = highest_threshold\n",
    "\n",
    "        # print(\"Depth: \", depth, \"Parent Gini: \",parent_gini,\"Highest Gain: \", highest_gain, \"Highest Index: \", highest_index,\"Split Index:\",highest_threshold_index, \"Shape: \", X.shape)\n",
    "\n",
    "        # split the data into left and right\n",
    "        full = np.concatenate((X,y), axis=1) #join X and y\n",
    "        full = full[full[:,highest_index].argsort()]\n",
    "\n",
    "        # split out on threshold by index\n",
    "        left = full[:highest_threshold_index]  \n",
    "        right = full[highest_threshold_index:]\n",
    "\n",
    "        # split out values and labels again\n",
    "        left_values = np.delete(left, -1, axis=1)\n",
    "        left_labels = np.delete(left, np.s_[0:-1], axis=1)\n",
    "        right_values = np.delete(right, -1, axis=1)\n",
    "        right_labels = np.delete(right, np.s_[:-1], axis=1)\n",
    "\n",
    "        # print(left.shape, left_values.shape, left_labels.shape, right.shape, right_values.shape, right_labels.shape)\n",
    "\n",
    "        # recursively do it again with the smaller dataset\n",
    "        node.left = DecisionTree(left_values,left_labels, depth=depth+1, classes=classes, features=features) \n",
    "        node.right = DecisionTree(right_values,right_labels, depth=depth+1, classes=classes, features=features)\n",
    "\n",
    "    return node\n",
    "\n",
    "def calc_gini(y, T=None, parent_gini=None, feature=None):\n",
    "\n",
    "    # calculate the gini impurity for the parent node\n",
    "    no_of_rows = len(y)\n",
    "\n",
    "    if T is None: \n",
    "\n",
    "        # we are just calculating the current node's gini\n",
    "        gini_sum = 0.0\n",
    "        threshold = None\n",
    "        split_index = 0\n",
    "        (_, counts) = np.unique(y, return_counts=True)\n",
    "        gini_sum = 1.0 - (sum((i/no_of_rows) ** 2 for i in counts))\n",
    "\n",
    "    else:\n",
    "\n",
    "        # calculate the median of T vals and use that to split against\n",
    "        best_threshold = 0.0\n",
    "        best_delta = 0.0\n",
    "        best_gini = 1.0\n",
    "        split_index = 0\n",
    "\n",
    "        # print(\"No of rows\", no_of_rows)\n",
    "        (_, indices) = np.unique(T[:,feature], return_index=True)\n",
    "        skip = 0\n",
    "        # print(indices.shape)\n",
    "        for index in indices:\n",
    "            if (indices.shape[0] > 1000): #this just speeds it up at the cost of accuracy... but in testing didn't seem to matter\n",
    "                skip = skip + 1\n",
    "                if skip % 50 != 0:\n",
    "                    continue\n",
    "            pleft_labels = y[:index]\n",
    "            pright_labels = y[index:]\n",
    "            gini_pleft, _, _ = calc_gini(pleft_labels)\n",
    "            # print(\"Calculating left gini for child at index\", index, \" Gini:\", gini_pleft)\n",
    "            gini_pright, _, _ = calc_gini(pright_labels)\n",
    "            # print(\"Calculating right gini for child at index\", index, \" Gini:\", gini_pright)\n",
    "            gini_weighted = (len(pleft_labels) / no_of_rows * gini_pleft) + (len(pright_labels) / no_of_rows * gini_pright)\n",
    "            delta = parent_gini - (gini_weighted)\n",
    "            # print(\"Delta for index\", index, \" is \", delta)\n",
    "            if delta > best_delta:\n",
    "                best_delta = delta\n",
    "                best_threshold = T[index,feature]\n",
    "                best_gini = gini_weighted\n",
    "                split_index = index\n",
    "\n",
    "        threshold = best_threshold\n",
    "        gini_sum = best_gini\n",
    "\n",
    "        # print(\"Best Delta:\", best_delta,\"Best Gini:\", gini_sum,\" Best threshold:\", threshold)\n",
    "            \n",
    "    return gini_sum, threshold, split_index\n",
    "\n",
    "def test_tree(x, tree):\n",
    "    if tree == None:\n",
    "        return -1\n",
    "    if tree.data != None:\n",
    "        return tree.data\n",
    "    if x[tree.index] < tree.threshold:\n",
    "        # delete out columns for the index we just decided\n",
    "        # x = np.delete(x,tree.index, axis=0)\n",
    "        return test_tree(x, tree.left)\n",
    "    else:\n",
    "        # x = np.delete(x,tree.index, axis=0)\n",
    "        return test_tree(x, tree.right)\n",
    "\n",
    "\n",
    "class Node(object):\n",
    "    def __init__(self):\n",
    "        super().__init__()\n",
    "        self.left = None\n",
    "        self.right = None\n",
    "        self.index = None\n",
    "        self.threshold = None\n",
    "        self.data = None"
   ]
  },
  {
   "cell_type": "code",
   "execution_count": 10,
   "metadata": {},
   "outputs": [],
   "source": [
    "def PCA(X_train,N):\n",
    "    \"\"\"\n",
    "    :type X_train: numpy.ndarray\n",
    "    :type N: int\n",
    "    :rtype: numpy.ndarray\n",
    "    \"\"\"\n",
    "    #Normalize Data\n",
    "    X_train -= np.mean(X_train, axis = 0)  \n",
    "    \n",
    "    #Covariance Matrix\n",
    "    #rowvar= False : the relationship is transposed: each column represents a variable, while the rows contain observations.\n",
    "    cov = np.cov(X_train, rowvar = False) \n",
    "    \n",
    "    #Get Eigen Value and Vectors from covariance matrix\n",
    "    evals , evecs = np.linalg.eig(cov)\n",
    "    eig_pairs = [(np.abs(evals[i]), evecs[:, i]) for i in range(len(evals))]\n",
    "\n",
    "    #Get n highest components\n",
    "    idx = np.argsort(evals)[::-1]\n",
    "    evecs = evecs[:,idx]\n",
    "    evals = evals[idx]\n",
    "    \n",
    "    #Resultant matrix\n",
    "    a = np.dot(X_train, evecs) \n",
    "    a=a[:,0:N]\n",
    "    a=np.asarray(a)\n",
    "    \n",
    "    return a\n"
   ]
  },
  {
   "cell_type": "code",
   "execution_count": 23,
   "metadata": {},
   "outputs": [],
   "source": [
    "def Kmeans(X_train,N):\n",
    "    \"\"\"\n",
    "    :type X_train: numpy.ndarray\n",
    "    :type N: int\n",
    "    :rtype: List[numpy.ndarray]\n",
    "    \"\"\"\n",
    "    clusters=N\n",
    "    X_train-=np.mean(X_train,axis=0)  \n",
    "    size =row= X_train.shape[0]\n",
    "    cols = X_train.shape[1]\n",
    "    X_train=np.asarray(X_train)\n",
    "    # calculating the sum of features and storing sum: features in dictionary\n",
    "    dic = {}\n",
    "    for i in range(row):\n",
    "        s = sum(X_train[i])\n",
    "        dic[s] = X_train[i]\n",
    "    dic = sorted(dic.items(), key=lambda item: item[0]) # sorting based on sum of features\n",
    "    sorted_data = []\n",
    "    for val in dic:\n",
    "        sorted_data.append(val[1])\n",
    "    groups = np.array(np.array_split(np.array(sorted_data),clusters)) # grouping based on sorting\n",
    "    centroids = []\n",
    "    for group in groups:\n",
    "        centroids.append(group.mean(axis = 0))\n",
    "    centroids = np.asarray(centroids) # here is where I am storing the features of 3 centroids\n",
    "\n",
    "\n",
    "    def distance_matrix(arr,centroids):\n",
    "        s=[]\n",
    "        for i in centroids:\n",
    "            x=np.tile(i,(size,1))\n",
    "            y=paired_distances(arr, x)\n",
    "            s.append(y)\n",
    "        dist_matrix=np.transpose(s)\n",
    "        return dist_matrix\n",
    "\n",
    "    def find_clusters(dist_matrix):\n",
    "        clust_dict={}\n",
    "        for c in range(1,clusters+1):\n",
    "            clust_dict[c]=''\n",
    "        for i in range(0,size):\n",
    "            min_value=np.min(dist_matrix[i])\n",
    "            index=np.where(dist_matrix[i] == min_value)\n",
    "            clust = int(index[0])+1\n",
    "            if clust_dict[clust] == '':\n",
    "                clust_dict[clust] = str(i+1)\n",
    "            else:\n",
    "                clust_dict[clust] = clust_dict[clust]+\",\"+str(i+1)\n",
    "        return clust_dict\n",
    "\n",
    "    def calculate_centroid(arr,clust_dict):\n",
    "        centroids = np.zeros([clusters,cols], dtype = float)\n",
    "        i=0\n",
    "        for key in clust_dict:\n",
    "            clust_vals = clust_dict[key]\n",
    "            vals = clust_vals.split(\",\")\n",
    "            temp = np.zeros([len(vals),cols], dtype = float)\n",
    "            j=0\n",
    "            for v in vals:\n",
    "                temp[j]=arr[int(v)-1]\n",
    "                j+=1\n",
    "            centroids[i]=np.mean(temp, axis = 0)\n",
    "            i+=1\n",
    "        return centroids\n",
    "\n",
    "    Iter=1\n",
    "    iteration=500\n",
    "    while(Iter<=iteration):\n",
    "        dist_matrix = distance_matrix(X_train,centroids)\n",
    "        clust_dict = find_clusters(dist_matrix)\n",
    "        c = calculate_centroid(X_train,clust_dict)\n",
    "        if(np.array_equal(c,centroids)):\n",
    "            break\n",
    "        else:\n",
    "            centroids = c\n",
    "            Iter+=1\n",
    "\n",
    "\n",
    "\n",
    "    #Function to assign Cluster IDs to individual rows\n",
    "    def cluster_ID(clust_dict):\n",
    "        l=1\n",
    "        label = np.zeros(size)\n",
    "        for key in clust_dict:\n",
    "            s=clust_dict[key]\n",
    "            arr = s.split(',')\n",
    "            for a in arr:\n",
    "                label[int(a)-1]=l\n",
    "            l+=1\n",
    "        return label\n",
    "\n",
    "    #Cluster number for each row\n",
    "    cluster_set=cluster_ID(clust_dict)\n",
    "    \n",
    "    l=[]\n",
    "    for i,j in zip(cluster_set,X_train):\n",
    "        i=int(i)\n",
    "        l.append([i,j])\n",
    "        \n",
    "    l=np.asarray(l)\n",
    "    z=[]\n",
    "    for i,j in zip(l[:,0],l[:,1]):\n",
    "        z.append([i,centroids[i-1],j])\n",
    "    return z"
   ]
  },
  {
   "cell_type": "code",
   "execution_count": 12,
   "metadata": {},
   "outputs": [],
   "source": [
    "def SklearnSupervisedLearning(X_train,Y_train,X_test):\n",
    "    \"\"\"\n",
    "    :type X_train: numpy.ndarray\n",
    "    :type X_test: numpy.ndarray\n",
    "    :type Y_train: numpy.ndarray\n",
    "    \n",
    "    :rtype: List[numpy.ndarray] \n",
    "    \"\"\"\n",
    "   \n",
    "\n",
    "    scaler = StandardScaler()\n",
    "    scaler.fit(x_train)\n",
    "    X_train = scaler.transform(X_train)\n",
    "\n",
    "    scaler.fit(X_test)\n",
    "    X_test = scaler.transform(X_test)\n",
    "    \n",
    "    # Logistic Regression\n",
    "    LR = LogisticRegression(random_state=5, solver='liblinear', multi_class='ovr',max_iter=5000).fit(X_train, Y_train)\n",
    "    LR_y_pred = LR.predict(X_test) \n",
    "    print(LR_y_pred)\n",
    "    \n",
    "    #knn\n",
    "    knn = KNeighborsClassifier(n_neighbors=7)\n",
    "    knn.fit(X_train, Y_train,)\n",
    "    knn_y_pred = knn.predict(X_test)\n",
    "    print(knn_y_pred)\n",
    "    \n",
    "    # Decision tree\n",
    "    DT = DecisionTreeClassifier()\n",
    "    DT = DT.fit(X_train,Y_train)\n",
    "    DT_y_pred = DT.predict(X_test)\n",
    "    print(DT_y_pred)\n",
    "    \n",
    "    #SVM\n",
    "    SVM = SVC(gamma=0.1, kernel='linear', random_state = 0)\n",
    "    SVM.fit(X_train, Y_train)\n",
    "    SVM_y_pred = SVM.predict(X_test)\n",
    "    print(SVM_y_pred)\n",
    "    \n",
    "    res=[]\n",
    "    res.append(LR_y_pred)\n",
    "    res.append(knn_y_pred)\n",
    "    res.append(DT_y_pred)\n",
    "    res.append(SVM_y_pred)\n",
    "    \n",
    "    return res"
   ]
  },
  {
   "cell_type": "code",
   "execution_count": 13,
   "metadata": {},
   "outputs": [],
   "source": [
    "def SklearnVotingClassifier(X_train,Y_train,X_test):\n",
    "    \n",
    "    \"\"\"\n",
    "    :type X_train: numpy.ndarray\n",
    "    :type X_test: numpy.ndarray\n",
    "    :type Y_train: numpy.ndarray\n",
    "    \n",
    "    :rtype: List[numpy.ndarray] \n",
    "    \"\"\"\n",
    "    log_clf = LogisticRegression()\n",
    "    rnd_clf = RandomForestClassifier()\n",
    "    svm_clf = SVC()\n",
    "    knn_clf = KNeighborsClassifier()\n",
    "\n",
    "    voting_clf = VotingClassifier(\n",
    "    estimators = [('lr', log_clf), ('rf', rnd_clf), ('svc',svm_clf), ('knn',knn_clf)],\n",
    "    voting = 'hard')\n",
    "    voting_clf.fit(X_train, Y_train)\n",
    "    y_pred = voting_clf.predict(X_test)\n",
    "    \n",
    "    return y_pred"
   ]
  },
  {
   "cell_type": "code",
   "execution_count": 14,
   "metadata": {},
   "outputs": [],
   "source": [
    "df=pd.read_csv(\"c:/Users/malin/Desktop/data.csv\")\n",
    "df.drop(df.index[0])\n",
    "\n",
    "row, col = df.shape\n",
    "\n",
    "X = df.iloc[:, 0:col - 1].to_numpy()\n",
    "y = df.iloc[:, col - 1].to_numpy()\n",
    "X = pd.DataFrame(data= X).to_numpy()"
   ]
  },
  {
   "cell_type": "code",
   "execution_count": 15,
   "metadata": {},
   "outputs": [],
   "source": [
    "x_train, x_test, y_train, y_true = train_test_split(X, y, test_size = 0.2)"
   ]
  },
  {
   "cell_type": "markdown",
   "metadata": {},
   "source": [
    "# Part 1"
   ]
  },
  {
   "cell_type": "markdown",
   "metadata": {},
   "source": [
    "# K- Nearest Neighbour (KNN)"
   ]
  },
  {
   "cell_type": "code",
   "execution_count": 16,
   "metadata": {},
   "outputs": [
    {
     "data": {
      "image/png": "[encoded data removed]",
      "text/plain": [
       "<Figure size 432x288 with 2 Axes>"
      ]
     },
     "metadata": {
      "needs_background": "light"
     },
     "output_type": "display_data"
    },
    {
     "name": "stdout",
     "output_type": "stream",
     "text": [
      "Accuracy for Knn:  0.7864990234375\n"
     ]
    },
    {
     "data": {
      "image/png": "[encoded data removed]",
      "text/plain": [
       "<Figure size 432x288 with 2 Axes>"
      ]
     },
     "metadata": {
      "needs_background": "light"
     },
     "output_type": "display_data"
    },
    {
     "name": "stdout",
     "output_type": "stream",
     "text": [
      "Recall for knn:  0.7904673834006936\n",
      "Wall time: 2min 12s\n"
     ]
    }
   ],
   "source": [
    "%%time\n",
    "y_pred=KNN(x_train, x_test, y_train,3)\n",
    "print(\"Accuracy for Knn: \", Accuracy(y_true, y_pred))\n",
    "print(\"Recall for knn: \", Recall(y_true, y_pred))\n",
    "\n",
    "#NOTE: COnfusion is matrix is printed everytime confusion matrix is called."
   ]
  },
  {
   "cell_type": "markdown",
   "metadata": {},
   "source": [
    "# Random Forest "
   ]
  },
  {
   "cell_type": "code",
   "execution_count": 17,
   "metadata": {},
   "outputs": [
    {
     "data": {
      "image/png": "[encoded data removed]",
      "text/plain": [
       "<Figure size 432x288 with 2 Axes>"
      ]
     },
     "metadata": {
      "needs_background": "light"
     },
     "output_type": "display_data"
    },
    {
     "name": "stdout",
     "output_type": "stream",
     "text": [
      "Accuracy for Random Forest:  0.9923095703125\n"
     ]
    },
    {
     "data": {
      "image/png": "[encoded data removed]",
      "text/plain": [
       "<Figure size 432x288 with 2 Axes>"
      ]
     },
     "metadata": {
      "needs_background": "light"
     },
     "output_type": "display_data"
    },
    {
     "name": "stdout",
     "output_type": "stream",
     "text": [
      "Recall for Random Forest:  0.992338560244525\n",
      "Wall time: 4min 14s\n"
     ]
    }
   ],
   "source": [
    "%%time\n",
    "y_pred = RandomForest(x_train, y_train, x_test)\n",
    "print(\"Accuracy for Random Forest: \", Accuracy(y_true, y_pred))\n",
    "print(\"Recall for Random Forest: \", Recall(y_true, y_pred))"
   ]
  },
  {
   "cell_type": "markdown",
   "metadata": {},
   "source": [
    "# Principal Component Analysis (PCA)"
   ]
  },
  {
   "cell_type": "code",
   "execution_count": 18,
   "metadata": {},
   "outputs": [
    {
     "name": "stdout",
     "output_type": "stream",
     "text": [
      "[[  3.85407815  -0.44836252  -0.72314782]\n",
      " [ -1.11033771  -1.19604392   0.2759783 ]\n",
      " [ -2.30288104   6.40155605   0.48740378]\n",
      " ...\n",
      " [-51.52341702  65.31402089   4.13032869]\n",
      " [  9.19259935   0.86613098  -0.18125147]\n",
      " [ 10.45657576  -2.01676579  -0.64182023]]\n",
      "Wall time: 62 ms\n"
     ]
    }
   ],
   "source": [
    "%%time\n",
    "pca=PCA(x_train,3)\n",
    "print(pca)"
   ]
  },
  {
   "cell_type": "markdown",
   "metadata": {},
   "source": [
    "# Kmeans"
   ]
  },
  {
   "cell_type": "code",
   "execution_count": 26,
   "metadata": {},
   "outputs": [
    {
     "name": "stdout",
     "output_type": "stream",
     "text": [
      "WCSS:  9268605.91492635\n",
      "Wall time: 51.5 s\n"
     ]
    }
   ],
   "source": [
    "%%time\n",
    "cluster=Kmeans(x_train,3)\n",
    "wcss=WCSS(cluster)\n",
    "print(\"WCSS: \",wcss)"
   ]
  },
  {
   "cell_type": "markdown",
   "metadata": {},
   "source": [
    "# Part  2"
   ]
  },
  {
   "cell_type": "markdown",
   "metadata": {},
   "source": [
    "# Supervised learning algorithms using scikit library-  SVM, Logistic Regression, Decision tree, KNN"
   ]
  },
  {
   "cell_type": "code",
   "execution_count": 20,
   "metadata": {},
   "outputs": [
    {
     "name": "stdout",
     "output_type": "stream",
     "text": [
      "[6 1 5 ... 6 4 6]\n",
      "[9 6 5 ... 1 5 6]\n",
      "[8 1 5 ... 1 4 6]\n",
      "[8 1 5 ... 6 4 6]\n",
      "[array([6, 1, 5, ..., 6, 4, 6], dtype=int64), array([9, 6, 5, ..., 1, 5, 6], dtype=int64), array([8, 1, 5, ..., 1, 4, 6], dtype=int64), array([8, 1, 5, ..., 6, 4, 6], dtype=int64)]\n",
      "Wall time: 2min 24s\n"
     ]
    }
   ],
   "source": [
    "%%time\n",
    "y_pred=SklearnSupervisedLearning(x_train,y_train,x_test)\n",
    "print(y_pred)\n"
   ]
  },
  {
   "cell_type": "code",
   "execution_count": 21,
   "metadata": {},
   "outputs": [
    {
     "data": {
      "image/png": "[encoded data removed]",
      "text/plain": [
       "<Figure size 432x288 with 2 Axes>"
      ]
     },
     "metadata": {
      "needs_background": "light"
     },
     "output_type": "display_data"
    },
    {
     "name": "stdout",
     "output_type": "stream",
     "text": [
      "Accuracy for Logistic Regression  :  0.602294921875\n"
     ]
    },
    {
     "data": {
      "image/png": "[encoded data removed]",
      "text/plain": [
       "<Figure size 432x288 with 2 Axes>"
      ]
     },
     "metadata": {
      "needs_background": "light"
     },
     "output_type": "display_data"
    },
    {
     "name": "stdout",
     "output_type": "stream",
     "text": [
      "Recall for Logistic Regression:  0.6386461560215356\n"
     ]
    },
    {
     "data": {
      "image/png": "[encoded data removed]",
      "text/plain": [
       "<Figure size 432x288 with 2 Axes>"
      ]
     },
     "metadata": {
      "needs_background": "light"
     },
     "output_type": "display_data"
    },
    {
     "name": "stdout",
     "output_type": "stream",
     "text": [
      "Accuracy for knn:  0.801025390625\n"
     ]
    },
    {
     "data": {
      "image/png": "[encoded data removed]",
      "text/plain": [
       "<Figure size 432x288 with 2 Axes>"
      ]
     },
     "metadata": {
      "needs_background": "light"
     },
     "output_type": "display_data"
    },
    {
     "name": "stdout",
     "output_type": "stream",
     "text": [
      "Recall for knn:  0.8031130119760933\n"
     ]
    },
    {
     "data": {
      "image/png": "[encoded data removed]",
      "text/plain": [
       "<Figure size 432x288 with 2 Axes>"
      ]
     },
     "metadata": {
      "needs_background": "light"
     },
     "output_type": "display_data"
    },
    {
     "name": "stdout",
     "output_type": "stream",
     "text": [
      "Accuracy for Decision tree:  0.910888671875\n"
     ]
    },
    {
     "data": {
      "image/png": "[encoded data removed]",
      "text/plain": [
       "<Figure size 432x288 with 2 Axes>"
      ]
     },
     "metadata": {
      "needs_background": "light"
     },
     "output_type": "display_data"
    },
    {
     "name": "stdout",
     "output_type": "stream",
     "text": [
      "Recall for Decision tree:  0.9119602823936903\n"
     ]
    },
    {
     "data": {
      "image/png": "[encoded data removed]",
      "text/plain": [
       "<Figure size 432x288 with 2 Axes>"
      ]
     },
     "metadata": {
      "needs_background": "light"
     },
     "output_type": "display_data"
    },
    {
     "name": "stdout",
     "output_type": "stream",
     "text": [
      "Accuracy for SVM:  0.898193359375\n"
     ]
    },
    {
     "data": {
      "image/png": "[encoded data removed]",
      "text/plain": [
       "<Figure size 432x288 with 2 Axes>"
      ]
     },
     "metadata": {
      "needs_background": "light"
     },
     "output_type": "display_data"
    },
    {
     "name": "stdout",
     "output_type": "stream",
     "text": [
      "Recall for SVM:  0.8986818217145984\n"
     ]
    }
   ],
   "source": [
    "#Logistic Regression\n",
    "print(\"Accuracy for Logistic Regression  : \", Accuracy(y_true, y_pred[0]))\n",
    "print(\"Recall for Logistic Regression: \", Recall(y_true, y_pred[0]))\n",
    "# #knn\n",
    "print(\"Accuracy for knn: \", Accuracy(y_true, y_pred[1]))\n",
    "print(\"Recall for knn: \", Recall(y_true, y_pred[1]))\n",
    "# #DecisionTree\n",
    "print(\"Accuracy for Decision tree: \", Accuracy(y_true, y_pred[2]))\n",
    "print(\"Recall for Decision tree: \", Recall(y_true, y_pred[2]))\n",
    "# #SVM\n",
    "print(\"Accuracy for SVM: \", Accuracy(y_true, y_pred[3]))\n",
    "print(\"Recall for SVM: \", Recall(y_true, y_pred[3]))"
   ]
  },
  {
   "cell_type": "markdown",
   "metadata": {},
   "source": [
    "# Ensemble model using the voting classifier for SVM, Logistic Regression, Decision tree, KNN"
   ]
  },
  {
   "cell_type": "code",
   "execution_count": 22,
   "metadata": {},
   "outputs": [
    {
     "name": "stderr",
     "output_type": "stream",
     "text": [
      "C:\\Users\\malin\\Anaconda3\\lib\\site-packages\\sklearn\\linear_model\\logistic.py:432: FutureWarning: Default solver will be changed to 'lbfgs' in 0.22. Specify a solver to silence this warning.\n",
      "  FutureWarning)\n",
      "C:\\Users\\malin\\Anaconda3\\lib\\site-packages\\sklearn\\linear_model\\logistic.py:469: FutureWarning: Default multi_class will be changed to 'auto' in 0.22. Specify the multi_class option to silence this warning.\n",
      "  \"this warning.\", FutureWarning)\n",
      "C:\\Users\\malin\\Anaconda3\\lib\\site-packages\\sklearn\\svm\\base.py:929: ConvergenceWarning: Liblinear failed to converge, increase the number of iterations.\n",
      "  \"the number of iterations.\", ConvergenceWarning)\n",
      "C:\\Users\\malin\\Anaconda3\\lib\\site-packages\\sklearn\\ensemble\\forest.py:245: FutureWarning: The default value of n_estimators will change from 10 in version 0.20 to 100 in 0.22.\n",
      "  \"10 in version 0.20 to 100 in 0.22.\", FutureWarning)\n",
      "C:\\Users\\malin\\Anaconda3\\lib\\site-packages\\sklearn\\svm\\base.py:193: FutureWarning: The default value of gamma will change from 'auto' to 'scale' in version 0.22 to account better for unscaled features. Set gamma explicitly to 'auto' or 'scale' to avoid this warning.\n",
      "  \"avoid this warning.\", FutureWarning)\n"
     ]
    },
    {
     "data": {
      "image/png": "[encoded data removed]",
      "text/plain": [
       "<Figure size 432x288 with 2 Axes>"
      ]
     },
     "metadata": {
      "needs_background": "light"
     },
     "output_type": "display_data"
    },
    {
     "name": "stdout",
     "output_type": "stream",
     "text": [
      "Accuracy for ensembler:  0.2274169921875\n"
     ]
    },
    {
     "data": {
      "image/png": "[encoded data removed]",
      "text/plain": [
       "<Figure size 432x288 with 2 Axes>"
      ]
     },
     "metadata": {
      "needs_background": "light"
     },
     "output_type": "display_data"
    },
    {
     "name": "stdout",
     "output_type": "stream",
     "text": [
      "Recall for ensembler:  0.3368394487676038\n",
      "Wall time: 7min 40s\n"
     ]
    }
   ],
   "source": [
    "%%time\n",
    "y_pred=SklearnVotingClassifier(x_train,y_train,x_test)\n",
    "print(\"Accuracy for ensembler: \", Accuracy(y_true, y_pred))\n",
    "print(\"Recall for ensembler: \", Recall(y_true, y_pred))"
   ]
  },
  {
   "cell_type": "code",
   "execution_count": null,
   "metadata": {},
   "outputs": [],
   "source": []
  },
  {
   "cell_type": "code",
   "execution_count": null,
   "metadata": {},
   "outputs": [],
   "source": []
  },
  {
   "cell_type": "code",
   "execution_count": null,
   "metadata": {},
   "outputs": [],
   "source": []
  }
 ],
 "metadata": {
  "kernelspec": {
   "display_name": "Python 3",
   "language": "python",
   "name": "python3"
  },
  "language_info": {
   "codemirror_mode": {
    "name": "ipython",
    "version": 3
   },
   "file_extension": ".py",
   "mimetype": "text/x-python",
   "name": "python",
   "nbconvert_exporter": "python",
   "pygments_lexer": "ipython3",
   "version": "3.7.1"
  }
 },
 "nbformat": 4,
 "nbformat_minor": 2
}
